{
  "nbformat": 4,
  "nbformat_minor": 0,
  "metadata": {
    "colab": {
      "name": "Creating custom methods using OOPS in SKLEARN.ipynb",
      "provenance": [],
      "collapsed_sections": [],
      "authorship_tag": "ABX9TyNjSetj6XIRDQsJnGiv4gMG",
      "include_colab_link": true
    },
    "kernelspec": {
      "name": "python3",
      "display_name": "Python 3"
    },
    "language_info": {
      "name": "python"
    }
  },
  "cells": [
    {
      "cell_type": "markdown",
      "metadata": {
        "id": "view-in-github",
        "colab_type": "text"
      },
      "source": [
        "<a href=\"https://colab.research.google.com/github/jssuriyakumar/Machine-Learning---AI/blob/main/Creating_custom_methods_using_OOPS_in_SKLEARN.ipynb\" target=\"_parent\"><img src=\"https://colab.research.google.com/assets/colab-badge.svg\" alt=\"Open In Colab\"/></a>"
      ]
    },
    {
      "cell_type": "markdown",
      "source": [
        "OOPS refresher"
      ],
      "metadata": {
        "id": "mYn7AEEqjqbr"
      }
    },
    {
      "cell_type": "code",
      "execution_count": 1,
      "metadata": {
        "id": "FU6lGd2ejUi6"
      },
      "outputs": [],
      "source": [
        "class MeanImputer:\n",
        "  pass"
      ]
    },
    {
      "cell_type": "code",
      "source": [
        "class MeanImputer:\n",
        "  \n",
        "  def __init__(self, variables): # all classes take an init class that specifies the properties that the class takes whenever it is initialzied. the first param is always self (calling it self)\n",
        "    self.variables = variables\n"
      ],
      "metadata": {
        "id": "2Alqt8-MjsmW"
      },
      "execution_count": 2,
      "outputs": []
    },
    {
      "cell_type": "code",
      "source": [
        "myImputer = MeanImputer(['age','sex'])"
      ],
      "metadata": {
        "id": "pZzzjLNXkPZn"
      },
      "execution_count": 3,
      "outputs": []
    },
    {
      "cell_type": "code",
      "source": [
        "myImputer.variables # accessing the class attributes    "
      ],
      "metadata": {
        "colab": {
          "base_uri": "https://localhost:8080/"
        },
        "id": "OXly772_kUcc",
        "outputId": "539bc9f2-85fc-4685-d300-55addd0a2644"
      },
      "execution_count": 5,
      "outputs": [
        {
          "output_type": "execute_result",
          "data": {
            "text/plain": [
              "['age', 'sex']"
            ]
          },
          "metadata": {},
          "execution_count": 5
        }
      ]
    },
    {
      "cell_type": "code",
      "source": [
        "class MeanImputer:\n",
        "\n",
        "  def __init__(self, variables):\n",
        "    self.variables = varaiables\n",
        "  \n",
        "  def fit(self,X, y=None): # in our example fit method learns the parameters (learns the function and computes the function value)\n",
        "    self.imputerDict = X[self.variables].mean().to_dict()\n",
        "    return self # means not returning anything\n",
        "\n",
        "  def transform(self, X): #u in our example transform method applies the learned parameters to the dataset\n",
        "    for i in self.variables:\n",
        "      X[i] = X[i].fillna(self.imputerDict[i])\n",
        "      return X"
      ],
      "metadata": {
        "id": "b6xa4du2kV_x"
      },
      "execution_count": 6,
      "outputs": []
    },
    {
      "cell_type": "markdown",
      "source": [
        "Inheritance in SCIKIT LEARN API"
      ],
      "metadata": {
        "id": "6_kqv7RTpq1q"
      }
    },
    {
      "cell_type": "code",
      "source": [
        "# process of one class taking methods and attributes of other class\n",
        "\n",
        "# PARENT CLASS\n",
        "class TransformerMixin:\n",
        "  def fit_transform(self, X, y = None):\n",
        "    X = self.fit(X,y).transform(X)\n",
        "    return X\n",
        "\n",
        "# CHILD CLASS \n",
        "class MeanImputer(TransformerMixin): # child class inheriting the methods of parent class\n",
        "\n",
        "  def __init__(self, variables):\n",
        "    self.variables = variables\n",
        "  \n",
        "  def fit(self,X, y=None): # in our example fit method learns the parameters (learns the function and computes the function value)\n",
        "    self.imputerDict = X[self.variables].mean().to_dict()\n",
        "    return self # means not returning anything\n",
        "\n",
        "  def transform(self, X): #u in our example transform method applies the learned parameters to the dataset\n",
        "    for i in self.variables:\n",
        "      X[i] = X[i].fillna(self.imputerDict[i])\n",
        "      return X"
      ],
      "metadata": {
        "id": "lvFoePcrpgMO"
      },
      "execution_count": 10,
      "outputs": []
    },
    {
      "cell_type": "code",
      "source": [
        "# Now since the parent class is inherited the we can call the methods of parent class directly from the child class\n",
        "myImputer = MeanImputer(['age','sex']).fit_transform(X,y)"
      ],
      "metadata": {
        "id": "bXnQ7FQtvG6R"
      },
      "execution_count": null,
      "outputs": []
    },
    {
      "cell_type": "markdown",
      "source": [
        "https://scikit-learn.org/stable/modules/classes.html \n",
        "\n",
        "Scikit learn has classes to make or extend this classes with user specific or problem specific classes\n",
        "\n",
        "For most of the preprocessing we have to sue BaseEstimator and Transformermixin\n",
        "\n",
        "Most of the preprocessing activities are problem specific no ready made class is available to tackle this we have to create our own classes"
      ],
      "metadata": {
        "id": "7MpssmfbwMNG"
      }
    },
    {
      "cell_type": "code",
      "source": [
        "import numpy as np\n",
        "import pandas as pd\n",
        "\n",
        "from sklearn.base import BaseEstimator, TransformerMixin"
      ],
      "metadata": {
        "id": "JiX0T_JBwLz8"
      },
      "execution_count": 13,
      "outputs": []
    },
    {
      "cell_type": "code",
      "source": [
        "# LET US CREATE A USER DEFINED CLASS TO CALCULATE TEMPORAL DIFFERENCE (DIFFERENCE BETWEEN TWO TIMEFRAMES TO REDUCE DIMENSIONALITY)\n",
        "\n",
        "class TemporalDifference(BaseEstimator,TransformerMixin): # named a class as TemporoalDifference (child class)\n",
        "\n",
        "  def __init__(self,variables, reference):\n",
        "    # type check\n",
        "    if not isinstance(variables, list):\n",
        "      raise ValueError(f'variables expected as a list got {type(variables)}')\n",
        "    if not isinstance(reference, str):\n",
        "      raise ValueError(f'reference expected as a string got {type(variables)}')\n",
        "\n",
        "    self.variables = variables\n",
        "    self.reference = reference \n",
        "\n",
        "  def fit(self): # though we are not calculating any value in prior which will be applied in transform, it is neccessary to keep fit method as per sklearn requirement\n",
        "\n",
        "    return self\n",
        "  def transform(self, X, y = None):\n",
        "\n",
        "    X = X.copy()\n",
        "    if self.variables not in X.columns:\n",
        "      raise ValueError('One or more columns not found in the dataframe')\n",
        "    for i in self.variables:\n",
        "      X[i] = X[i] - X[self.reference]\n",
        "    return X"
      ],
      "metadata": {
        "id": "h323efhIvOcD"
      },
      "execution_count": 14,
      "outputs": []
    },
    {
      "cell_type": "code",
      "source": [
        "# LET US CREATE A USER DEFINED CLASS TO REPLACE THE STRING BASED CATEGORICAL VARIABLES TO USER-DEFINED FORMAT WHICH WILL BE USED ALMOST EVERYWHERE IN THE DATA SCIENCE PROBLEM\n",
        "\n",
        "class Mapper(BaseEstimator,TransformerMixin):\n",
        "\n",
        "  def __init__(self, variables, mappings):\n",
        "    # type check\n",
        "    if not isinstance(variables, list):\n",
        "      raise ValueError(f'variables expected as a list got {type(variables)}')\n",
        "    \n",
        "    self.variables = variables\n",
        "    self.mappings = mappings\n",
        "  \n",
        "  def fit(self): # though we are not calculating any value in prior which will be applied in transform, it is neccessary to keep fit method as per sklearn requirement\n",
        "    return self\n",
        "\n",
        "  def transform(self, X, y = None):\n",
        "    X = X.copy()\n",
        "    if self.variables not in X.columns:\n",
        "      raise ValueError('One or more columns not found in the dataframe')\n",
        "    for i in self.variables:\n",
        "      X[i] = X[i].map(self.mappings)\n",
        "    return X"
      ],
      "metadata": {
        "id": "TiXqvQZ7vOZw"
      },
      "execution_count": null,
      "outputs": []
    },
    {
      "cell_type": "code",
      "source": [
        "# LET US CREATE TRANSFORMERS THAT CAN LEARN AND STORED DATA\n",
        "\n",
        "class MeanImputer(BaseEstimator, TransformerMixin):\n",
        "\n",
        "  def __init__(self, variables):\n",
        "    if not isinstance(variables, list):\n",
        "      raise ValueError(f'variables expected as a list got {type(variables)}')\n",
        "    self.variables = variables\n",
        "  \n",
        "  def fit(self,X, y=None): # in our example fit method learns the parameters (learns the function and computes the function value)\n",
        "    self.imputerDict = X[self.variables].mean().to_dict()\n",
        "    return self # means not returning anything\n",
        "\n",
        "  def transform(self, X): #u in our example transform method applies the learned parameters to the dataset\n",
        "    for i in self.variables:\n",
        "      X[i] = X[i].fillna(self.imputerDict[i],inplace=True)\n",
        "      return X"
      ],
      "metadata": {
        "id": "_OHlNJqdvOXb"
      },
      "execution_count": null,
      "outputs": []
    },
    {
      "cell_type": "code",
      "source": [
        "# LET US CREATE A USER DEFINED CLASS TO REPLACE THE STRING BASED CATEGORICAL VARIABLES TO USER-DEFINED FORMAT WHICH WILL BE USED ALMOST EVERYWHERE IN THE DATA SCIENCE PROBLEM\n",
        "\n",
        "class RareCategoricalEncoder(BaseEstimator, TransformerMixin):\n",
        "  \n",
        "  def __init__(self,variables,limit = 0.03):\n",
        "    \n",
        "    if not isinstance(variables, list):\n",
        "      raise ValueError(f'variables expected as a list got {type(variables)}')\n",
        "    self.variables = variables\n",
        "    self.limit = limit\n",
        "\n",
        "  def fit(self, X, y=None):\n",
        "\n",
        "    self.encoder_dict = {}\n",
        "    for i in self.variables:\n",
        "      variable_list = pd.Series(X[i].value_counts(normalize = True))\n",
        "      self.encoder_dict[i] = list(variable_list[variable_list>self.limit].index)\n",
        "    return self\n",
        "\n",
        "  def transform(self, X):\n",
        "    X = X.copy()\n",
        "    for i in self.variables:\n",
        "      X[i] = np.where(X[i].isin(self.encoder_dict[i],X[i],\"Rare\"))\n",
        "    return X\n",
        "    "
      ],
      "metadata": {
        "id": "I_W6JhPd23GY"
      },
      "execution_count": 15,
      "outputs": []
    },
    {
      "cell_type": "code",
      "source": [
        "# LET US CREATE A USER DEFINED CLASS TO PERFORM CATEGORICAL ENCODING\n",
        "class CategoricalEncoder(BaseEstimator, TransformerMixin):\n",
        "  \n",
        "  def __init__(self,variables):\n",
        "    if not isinstance(variables, list):\n",
        "      raise ValueError(f'variables expected as a list got {type(variables)}')\n",
        "    self.variables = variables\n",
        "  \n",
        "  def fit(self, X, y):\n",
        "    temp = pd.concat([X,y],axis = 1)\n",
        "    temp.columns = list(X.columns) + ['target']\n",
        "    \n",
        "    self.encoder_dict = {}\n",
        "    for i in self.variables:\n",
        "      t = temp.groupby([i])['target'].mean().sort_values(ascending=True).index\n",
        "      self.encoder_dict[i] = {k:j for j,k in enumerate(t,0)}\n",
        "      return self\n",
        "    \n",
        "  def transform(self, X):\n",
        "\n",
        "    X = X.copy()\n",
        "    for i in self.variables:\n",
        "      X[i] = X[i].map(self.encoder_dict[i])\n",
        "    return X\n",
        "    "
      ],
      "metadata": {
        "id": "y7CViFUp23EY"
      },
      "execution_count": 16,
      "outputs": []
    },
    {
      "cell_type": "code",
      "source": [
        ""
      ],
      "metadata": {
        "id": "WUbBBuAB23CO"
      },
      "execution_count": null,
      "outputs": []
    },
    {
      "cell_type": "code",
      "source": [
        ""
      ],
      "metadata": {
        "id": "AHDRWNl3229p"
      },
      "execution_count": null,
      "outputs": []
    },
    {
      "cell_type": "code",
      "source": [
        ""
      ],
      "metadata": {
        "id": "Jbrqy6X9227K"
      },
      "execution_count": null,
      "outputs": []
    },
    {
      "cell_type": "code",
      "source": [
        ""
      ],
      "metadata": {
        "id": "wQ143iw6224-"
      },
      "execution_count": null,
      "outputs": []
    },
    {
      "cell_type": "code",
      "source": [
        ""
      ],
      "metadata": {
        "id": "sFZJt1Pr2224"
      },
      "execution_count": null,
      "outputs": []
    },
    {
      "cell_type": "code",
      "source": [
        ""
      ],
      "metadata": {
        "id": "VDt5Lwyg220n"
      },
      "execution_count": null,
      "outputs": []
    }
  ]
}