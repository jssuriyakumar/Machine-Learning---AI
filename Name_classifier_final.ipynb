{
  "nbformat": 4,
  "nbformat_minor": 0,
  "metadata": {
    "colab": {
      "name": "Name_classifier_final.ipynb",
      "provenance": [],
      "collapsed_sections": [],
      "authorship_tag": "ABX9TyNTJg5TaJ87RvtuSQmZ+Msg",
      "include_colab_link": true
    },
    "kernelspec": {
      "name": "python3",
      "display_name": "Python 3"
    },
    "language_info": {
      "name": "python"
    }
  },
  "cells": [
    {
      "cell_type": "markdown",
      "metadata": {
        "id": "view-in-github",
        "colab_type": "text"
      },
      "source": [
        "<a href=\"https://colab.research.google.com/github/jssuriyakumar/Machine-Learning---AI/blob/main/Name_classifier_final.ipynb\" target=\"_parent\"><img src=\"https://colab.research.google.com/assets/colab-badge.svg\" alt=\"Open In Colab\"/></a>"
      ]
    },
    {
      "cell_type": "code",
      "execution_count": 1,
      "metadata": {
        "id": "2vcpxBNmxw2h"
      },
      "outputs": [],
      "source": [
        "import pandas as pd\n",
        "import numpy as np\n",
        "import matplotlib.pyplot as plt\n",
        "from tqdm import tqdm\n",
        "import random\n",
        "from imblearn.pipeline import Pipeline, make_pipeline\n",
        "from imblearn.over_sampling import SMOTE,ADASYN,SVMSMOTE\n",
        "from sklearn.naive_bayes import MultinomialNB\n",
        "from sklearn.feature_extraction.text import CountVectorizer\n",
        "from sklearn.feature_extraction.text import TfidfTransformer\n",
        "from sklearn.model_selection import train_test_split\n",
        "from sklearn.model_selection import GridSearchCV, StratifiedKFold\n",
        "from sklearn.metrics import confusion_matrix  \n",
        "from sklearn.metrics import classification_report\n",
        "from sklearn.linear_model import LogisticRegression\n",
        "from sklearn.ensemble import RandomForestClassifier\n",
        "from xgboost import XGBClassifier\n",
        "from sklearn.svm import SVC\n",
        "from sklearn.tree import DecisionTreeClassifier\n",
        "from sklearn.neighbors import KNeighborsClassifier, RadiusNeighborsClassifier\n",
        "from sklearn.linear_model import SGDClassifier\n",
        "from sklearn.metrics import roc_curve\n",
        "from sklearn.metrics import roc_auc_score\n",
        "from sklearn.metrics import precision_recall_curve\n",
        "from sklearn.metrics import auc\n",
        "import pickle"
      ]
    },
    {
      "cell_type": "code",
      "source": [
        "data_valid = pd.read_csv('dataset3_valid.csv',header=None,names=['Names'],index_col=None)\n",
        "data_invalid = pd.read_csv('dataset3_invalid.csv',header=None,index_col=None)"
      ],
      "metadata": {
        "id": "hzhjkQnpx6At"
      },
      "execution_count": 2,
      "outputs": []
    },
    {
      "cell_type": "code",
      "source": [
        "data_valid_copy_1 = data_valid.copy()\n",
        "data_invalid_copy = data_invalid.copy()"
      ],
      "metadata": {
        "id": "92f4WULXx_j4"
      },
      "execution_count": 3,
      "outputs": []
    },
    {
      "cell_type": "code",
      "source": [
        "data_valid_copy_1 = data_valid_copy_1.sample(frac=1,random_state =7).reset_index(drop=True)\n",
        "data_invalid_copy = data_invalid_copy.sample(frac=1,random_state =7).reset_index(drop=True)"
      ],
      "metadata": {
        "id": "zb33cyD3x_hb"
      },
      "execution_count": 4,
      "outputs": []
    },
    {
      "cell_type": "code",
      "source": [
        "cleaned_data = data_valid_copy_1"
      ],
      "metadata": {
        "id": "WWpF3mjBx_fV"
      },
      "execution_count": 5,
      "outputs": []
    },
    {
      "cell_type": "code",
      "source": [
        "# adding label columns to the cleaned dataset\n",
        "cleaned_data['Originality'] = 1\n",
        "data_invalid_copy['Originality'] = 0\n",
        "\n",
        "# converting dataframe to array\n",
        "cleaned_data = cleaned_data[:].values\n",
        "data_invalid_copy = data_invalid_copy[:].values\n",
        "\n",
        "# stacking the valid and invalid names as single array\n",
        "final_data = pd.DataFrame(np.vstack((cleaned_data,data_invalid_copy)),columns=['Names','Originality'])\n",
        "final_data['Originality'] = final_data['Originality'].astype('int')"
      ],
      "metadata": {
        "id": "FaspS_UVx_c1"
      },
      "execution_count": 6,
      "outputs": []
    },
    {
      "cell_type": "code",
      "source": [
        "x_train, x_test, y_train, y_test = train_test_split(final_data['Names'], final_data['Originality'], test_size=0.2,random_state=7)\n",
        "\n",
        "print(x_train.shape, x_test.shape)\n",
        "print(y_train.shape, y_test.shape)"
      ],
      "metadata": {
        "colab": {
          "base_uri": "https://localhost:8080/"
        },
        "id": "p1wCQhv-x_aV",
        "outputId": "08cf32bf-c352-46cd-be99-f58452f0e983"
      },
      "execution_count": 7,
      "outputs": [
        {
          "output_type": "stream",
          "name": "stdout",
          "text": [
            "(108695,) (27174,)\n",
            "(108695,) (27174,)\n"
          ]
        }
      ]
    },
    {
      "cell_type": "code",
      "source": [
        "nameclassifier_mnb = Pipeline([\n",
        "  ('vect', CountVectorizer()),\n",
        "  ('tfidf', TfidfTransformer()),\n",
        "   ('sm',SMOTE(random_state=7,)),\n",
        "   ('mnb', MultinomialNB(alpha =0.01))\n",
        "])"
      ],
      "metadata": {
        "id": "c1PAQsfpx_X_"
      },
      "execution_count": 55,
      "outputs": []
    },
    {
      "cell_type": "code",
      "source": [
        "nameclassifier_mnb.fit(x_train, y_train)"
      ],
      "metadata": {
        "colab": {
          "base_uri": "https://localhost:8080/"
        },
        "id": "nVh8DGKmx_Vp",
        "outputId": "bcd2c612-3a22-4966-dae1-8f3074d9876e"
      },
      "execution_count": 56,
      "outputs": [
        {
          "output_type": "execute_result",
          "data": {
            "text/plain": [
              "Pipeline(steps=[('vect', CountVectorizer()), ('tfidf', TfidfTransformer()),\n",
              "                ('sm', SMOTE(random_state=7)),\n",
              "                ('mnb', MultinomialNB(alpha=0.01))])"
            ]
          },
          "metadata": {},
          "execution_count": 56
        }
      ]
    },
    {
      "cell_type": "code",
      "source": [
        "pred = nameclassifier_mnb.predict(x_test)"
      ],
      "metadata": {
        "id": "Oj3rK7-gy4gh"
      },
      "execution_count": 57,
      "outputs": []
    },
    {
      "cell_type": "code",
      "source": [
        "cm = confusion_matrix(y_test, pred)"
      ],
      "metadata": {
        "id": "Tfguouf5x_TZ"
      },
      "execution_count": 58,
      "outputs": []
    },
    {
      "cell_type": "code",
      "source": [
        "cm"
      ],
      "metadata": {
        "colab": {
          "base_uri": "https://localhost:8080/"
        },
        "id": "sfUmazBLx_Qs",
        "outputId": "19ba6201-1f54-4bcf-bbbe-604197d32d82"
      },
      "execution_count": 59,
      "outputs": [
        {
          "output_type": "execute_result",
          "data": {
            "text/plain": [
              "array([[ 8609,  2237],\n",
              "       [ 5987, 10341]])"
            ]
          },
          "metadata": {},
          "execution_count": 59
        }
      ]
    },
    {
      "cell_type": "code",
      "source": [
        "print(classification_report(y_test.astype('int'), pred))"
      ],
      "metadata": {
        "colab": {
          "base_uri": "https://localhost:8080/"
        },
        "id": "CR8AMZnQx_OW",
        "outputId": "1e961c43-5531-4d25-dace-4d468ebcb6bc"
      },
      "execution_count": 60,
      "outputs": [
        {
          "output_type": "stream",
          "name": "stdout",
          "text": [
            "              precision    recall  f1-score   support\n",
            "\n",
            "           0       0.59      0.79      0.68     10846\n",
            "           1       0.82      0.63      0.72     16328\n",
            "\n",
            "    accuracy                           0.70     27174\n",
            "   macro avg       0.71      0.71      0.70     27174\n",
            "weighted avg       0.73      0.70      0.70     27174\n",
            "\n"
          ]
        }
      ]
    },
    {
      "cell_type": "code",
      "source": [
        "probabilityValues = nameclassifier_mnb.predict_proba(x_test)[:,1]\n",
        "\n",
        "#Calc AUC\n",
        "auc = roc_auc_score(y_test,probabilityValues)\n",
        "print(auc)\n",
        "\n",
        "#Calc ROC Curve\n",
        "fpr,tpr,threshold = roc_curve(y_test,probabilityValues)\n",
        "\n",
        "#Plot Skill Line\n",
        "plt.plot([0,1],[0,1], linestyle = '--')\n",
        "\n",
        "#Plot ROC Curve\n",
        "plt.plot(fpr,tpr)\n",
        "plt.legend(['Random Guess','Knowledge'])"
      ],
      "metadata": {
        "colab": {
          "base_uri": "https://localhost:8080/",
          "height": 300
        },
        "id": "sg86U_Mjx_MJ",
        "outputId": "4d45ffcb-feb4-4c7c-fa53-e1f9dd6e2813"
      },
      "execution_count": 53,
      "outputs": [
        {
          "output_type": "stream",
          "name": "stdout",
          "text": [
            "0.8228113136492067\n"
          ]
        },
        {
          "output_type": "execute_result",
          "data": {
            "text/plain": [
              "<matplotlib.legend.Legend at 0x7ff913d61250>"
            ]
          },
          "metadata": {},
          "execution_count": 53
        },
        {
          "output_type": "display_data",
          "data": {
            "image/png": "[encoded data removed]",
            "text/plain": [
              "<Figure size 432x288 with 1 Axes>"
            ]
          },
          "metadata": {
            "needs_background": "light"
          }
        }
      ]
    },
    {
      "cell_type": "code",
      "source": [
        "from sklearn.metrics import precision_recall_curve\n",
        "from sklearn.metrics import auc\n",
        "\n",
        "probabilityValues = nameclassifier_mnb.predict_proba(x_test)[:,1]\n",
        "\n",
        "#Cal PR Curve\n",
        "precision,recall,t = precision_recall_curve(y_test,probabilityValues)\n",
        "\n",
        "#Calc AUC\n",
        "auc = auc(recall,precision)\n",
        "print(auc)\n",
        "\n",
        "#Plot Skill Line\n",
        "plt.plot([0,1],[0.5,0.5],linestyle='--')\n",
        "\n",
        "#plot PR\n",
        "plt.plot(recall,precision)\n"
      ],
      "metadata": {
        "colab": {
          "base_uri": "https://localhost:8080/",
          "height": 235
        },
        "id": "9saJANPxx_Jt",
        "outputId": "8975e27d-387d-48be-8979-47c6b92cbf1d"
      },
      "execution_count": 18,
      "outputs": [
        {
          "output_type": "error",
          "ename": "NameError",
          "evalue": "ignored",
          "traceback": [
            "\u001b[0;31m---------------------------------------------------------------------------\u001b[0m",
            "\u001b[0;31mNameError\u001b[0m                                 Traceback (most recent call last)",
            "\u001b[0;32m<ipython-input-18-7f2f9b263a10>\u001b[0m in \u001b[0;36m<module>\u001b[0;34m()\u001b[0m\n\u001b[1;32m      1\u001b[0m \u001b[0;32mfrom\u001b[0m \u001b[0msklearn\u001b[0m\u001b[0;34m.\u001b[0m\u001b[0mmetrics\u001b[0m \u001b[0;32mimport\u001b[0m \u001b[0mprecision_recall_curve\u001b[0m\u001b[0;34m\u001b[0m\u001b[0;34m\u001b[0m\u001b[0m\n\u001b[1;32m      2\u001b[0m \u001b[0;32mfrom\u001b[0m \u001b[0msklearn\u001b[0m\u001b[0;34m.\u001b[0m\u001b[0mmetrics\u001b[0m \u001b[0;32mimport\u001b[0m \u001b[0mauc\u001b[0m\u001b[0;34m\u001b[0m\u001b[0;34m\u001b[0m\u001b[0m\n\u001b[0;32m----> 3\u001b[0;31m \u001b[0mprobabilityValues\u001b[0m \u001b[0;34m=\u001b[0m \u001b[0mnameclassifier_mnb\u001b[0m\u001b[0;34m.\u001b[0m\u001b[0mpredict_proba\u001b[0m\u001b[0;34m(\u001b[0m\u001b[0mx_test\u001b[0m\u001b[0;34m)\u001b[0m\u001b[0;34m[\u001b[0m\u001b[0;34m:\u001b[0m\u001b[0;34m,\u001b[0m\u001b[0;36m1\u001b[0m\u001b[0;34m]\u001b[0m\u001b[0;34m\u001b[0m\u001b[0;34m\u001b[0m\u001b[0m\n\u001b[0m\u001b[1;32m      4\u001b[0m \u001b[0;34m\u001b[0m\u001b[0m\n\u001b[1;32m      5\u001b[0m \u001b[0;31m#Cal PR Curve\u001b[0m\u001b[0;34m\u001b[0m\u001b[0;34m\u001b[0m\u001b[0;34m\u001b[0m\u001b[0m\n",
            "\u001b[0;31mNameError\u001b[0m: name 'nameclassifier_mnb' is not defined"
          ]
        }
      ]
    },
    {
      "cell_type": "markdown",
      "source": [
        "# Logistic regression"
      ],
      "metadata": {
        "id": "V01_jgRy5JQ6"
      }
    },
    {
      "cell_type": "code",
      "source": [
        "nameclassifier_log_reg = Pipeline([\n",
        "  ('vect', CountVectorizer()),\n",
        "   ('tfidf', TfidfTransformer()),\n",
        "   ('sm', SMOTE(random_state=7,sampling_strategy='minority',k_neighbors=3)),\n",
        "   ('log_reg', LogisticRegression(class_weight='balanced',solver='saga',C= 500))\n",
        "])"
      ],
      "metadata": {
        "id": "ER0g4f_4x_HN"
      },
      "execution_count": 62,
      "outputs": []
    },
    {
      "cell_type": "code",
      "source": [
        "nameclassifier_log_reg.fit(x_train,y_train)"
      ],
      "metadata": {
        "colab": {
          "base_uri": "https://localhost:8080/"
        },
        "id": "FnoxBNLVx_Eo",
        "outputId": "649732ca-2efc-4db3-8a66-e6868596e7e3"
      },
      "execution_count": 63,
      "outputs": [
        {
          "output_type": "stream",
          "name": "stderr",
          "text": [
            "/usr/local/lib/python3.7/dist-packages/sklearn/linear_model/_sag.py:354: ConvergenceWarning: The max_iter was reached which means the coef_ did not converge\n",
            "  ConvergenceWarning,\n"
          ]
        },
        {
          "output_type": "execute_result",
          "data": {
            "text/plain": [
              "Pipeline(steps=[('vect', CountVectorizer()), ('tfidf', TfidfTransformer()),\n",
              "                ('sm',\n",
              "                 SMOTE(k_neighbors=3, random_state=7,\n",
              "                       sampling_strategy='minority')),\n",
              "                ('log_reg',\n",
              "                 LogisticRegression(C=500, class_weight='balanced',\n",
              "                                    solver='saga'))])"
            ]
          },
          "metadata": {},
          "execution_count": 63
        }
      ]
    },
    {
      "cell_type": "code",
      "source": [
        "pred = nameclassifier_log_reg.predict(x_test)"
      ],
      "metadata": {
        "id": "P7mLzkD_x_CG"
      },
      "execution_count": 64,
      "outputs": []
    },
    {
      "cell_type": "code",
      "source": [
        "cm = confusion_matrix(y_test, pred)\n",
        "cm"
      ],
      "metadata": {
        "colab": {
          "base_uri": "https://localhost:8080/"
        },
        "id": "N6qwgRtD0r72",
        "outputId": "1612b524-45bb-4c7b-b0f0-1ba82cf311ac"
      },
      "execution_count": 65,
      "outputs": [
        {
          "output_type": "execute_result",
          "data": {
            "text/plain": [
              "array([[ 6096,  4750],\n",
              "       [ 1387, 14941]])"
            ]
          },
          "metadata": {},
          "execution_count": 65
        }
      ]
    },
    {
      "cell_type": "code",
      "source": [
        "print(classification_report(y_test, pred))"
      ],
      "metadata": {
        "colab": {
          "base_uri": "https://localhost:8080/"
        },
        "id": "JdTuQkeV0r55",
        "outputId": "7446a0c2-465d-44ab-f191-fe0de5f491b9"
      },
      "execution_count": 66,
      "outputs": [
        {
          "output_type": "stream",
          "name": "stdout",
          "text": [
            "              precision    recall  f1-score   support\n",
            "\n",
            "           0       0.81      0.56      0.67     10846\n",
            "           1       0.76      0.92      0.83     16328\n",
            "\n",
            "    accuracy                           0.77     27174\n",
            "   macro avg       0.79      0.74      0.75     27174\n",
            "weighted avg       0.78      0.77      0.76     27174\n",
            "\n"
          ]
        }
      ]
    },
    {
      "cell_type": "code",
      "source": [
        "probabilityValues = nameclassifier_log_reg.predict_proba(x_test)[:,1]\n",
        "\n",
        "#Calc AUC\n",
        "auc = roc_auc_score(y_test,probabilityValues)\n",
        "print(auc)\n",
        "\n",
        "#Calc ROC Curve\n",
        "fpr,tpr,threshold = roc_curve(y_test,probabilityValues)\n",
        "\n",
        "#Plot Skill Line\n",
        "plt.plot([0,1],[0,1], linestyle = '--')\n",
        "\n",
        "#Plot ROC Curve\n",
        "plt.plot(fpr,tpr)\n",
        "plt.legend(['Random Guess','Knowledge'])"
      ],
      "metadata": {
        "colab": {
          "base_uri": "https://localhost:8080/",
          "height": 300
        },
        "id": "uZmcSu7q0r3x",
        "outputId": "3f968837-8ea7-419d-adb9-bb4421826022"
      },
      "execution_count": 19,
      "outputs": [
        {
          "output_type": "stream",
          "name": "stdout",
          "text": [
            "0.805513266529597\n"
          ]
        },
        {
          "output_type": "execute_result",
          "data": {
            "text/plain": [
              "<matplotlib.legend.Legend at 0x7f1fcc12dbd0>"
            ]
          },
          "metadata": {},
          "execution_count": 19
        },
        {
          "output_type": "display_data",
          "data": {
            "image/png": "[encoded data removed]",
            "text/plain": [
              "<Figure size 432x288 with 1 Axes>"
            ]
          },
          "metadata": {
            "needs_background": "light"
          }
        }
      ]
    },
    {
      "cell_type": "code",
      "source": [
        "from sklearn.metrics import precision_recall_curve\n",
        "from sklearn.metrics import auc\n",
        "\n",
        "probabilityValues = nameclassifier_log_reg.predict_proba(x_test)[:,1]\n",
        "\n",
        "#Cal PR Curve\n",
        "precision,recall,t = precision_recall_curve(y_test,probabilityValues)\n",
        "\n",
        "#Calc AUC\n",
        "auc = auc(recall,precision)\n",
        "print(auc)\n",
        "\n",
        "#Plot Skill Line\n",
        "plt.plot([0,1],[0.5,0.5],linestyle='--')\n",
        "\n",
        "#plot PR\n",
        "plt.plot(recall,precision)"
      ],
      "metadata": {
        "colab": {
          "base_uri": "https://localhost:8080/",
          "height": 300
        },
        "id": "IHcpD9mD0r1h",
        "outputId": "cb12074f-538d-44d8-d546-02a9c85a387c"
      },
      "execution_count": 21,
      "outputs": [
        {
          "output_type": "stream",
          "name": "stdout",
          "text": [
            "0.849914182902517\n"
          ]
        },
        {
          "output_type": "execute_result",
          "data": {
            "text/plain": [
              "[<matplotlib.lines.Line2D at 0x7f1fcc0f4b90>]"
            ]
          },
          "metadata": {},
          "execution_count": 21
        },
        {
          "output_type": "display_data",
          "data": {
            "image/png": "[encoded data removed]",
            "text/plain": [
              "<Figure size 432x288 with 1 Axes>"
            ]
          },
          "metadata": {
            "needs_background": "light"
          }
        }
      ]
    },
    {
      "cell_type": "code",
      "source": [
        "nameclassifier_xgb = Pipeline([\n",
        "  ('vect', CountVectorizer()),\n",
        "   ('tfidf', TfidfTransformer()),\n",
        "   ('sm', SMOTE(random_state=7,sampling_strategy='minority',k_neighbors=3)),\n",
        "   ('xgb', XGBClassifier())\n",
        "])"
      ],
      "metadata": {
        "id": "2gZR-5CC0rzM"
      },
      "execution_count": 22,
      "outputs": []
    },
    {
      "cell_type": "code",
      "source": [
        "nameclassifier_xgb.fit(x_train,y_train)"
      ],
      "metadata": {
        "colab": {
          "base_uri": "https://localhost:8080/"
        },
        "id": "KUYkRF7y0rww",
        "outputId": "e40af235-8f22-43cf-a3b4-c3f171bfd5c3"
      },
      "execution_count": 23,
      "outputs": [
        {
          "output_type": "execute_result",
          "data": {
            "text/plain": [
              "Pipeline(steps=[('vect', CountVectorizer()), ('tfidf', TfidfTransformer()),\n",
              "                ('sm',\n",
              "                 SMOTE(k_neighbors=3, random_state=7,\n",
              "                       sampling_strategy='minority')),\n",
              "                ('xgb', XGBClassifier())])"
            ]
          },
          "metadata": {},
          "execution_count": 23
        }
      ]
    },
    {
      "cell_type": "code",
      "source": [
        "pred = nameclassifier_xgb.predict(x_test)"
      ],
      "metadata": {
        "id": "2fd4J-yF8okV"
      },
      "execution_count": 24,
      "outputs": []
    },
    {
      "cell_type": "code",
      "source": [
        "cm = confusion_matrix(y_test, pred)\n",
        "cm"
      ],
      "metadata": {
        "colab": {
          "base_uri": "https://localhost:8080/"
        },
        "id": "KaiNc8vW8ohV",
        "outputId": "18b21d45-6cd1-4604-b412-0ab542f821cb"
      },
      "execution_count": 25,
      "outputs": [
        {
          "output_type": "execute_result",
          "data": {
            "text/plain": [
              "array([[10132,   714],\n",
              "       [10525,  5803]])"
            ]
          },
          "metadata": {},
          "execution_count": 25
        }
      ]
    },
    {
      "cell_type": "code",
      "source": [
        "print(classification_report(y_test.astype('int'), pred))"
      ],
      "metadata": {
        "colab": {
          "base_uri": "https://localhost:8080/"
        },
        "id": "42yMOrB28oeu",
        "outputId": "4f725c03-1c37-4ea5-9942-b08fc9038195"
      },
      "execution_count": 26,
      "outputs": [
        {
          "output_type": "stream",
          "name": "stdout",
          "text": [
            "              precision    recall  f1-score   support\n",
            "\n",
            "           0       0.49      0.93      0.64     10846\n",
            "           1       0.89      0.36      0.51     16328\n",
            "\n",
            "    accuracy                           0.59     27174\n",
            "   macro avg       0.69      0.64      0.58     27174\n",
            "weighted avg       0.73      0.59      0.56     27174\n",
            "\n"
          ]
        }
      ]
    },
    {
      "cell_type": "code",
      "source": [
        "probabilityValues = nameclassifier_xgb.predict_proba(x_test)[:,1]\n",
        "\n",
        "#Calc AUC\n",
        "auc = roc_auc_score(y_test,probabilityValues)\n",
        "print(auc)\n",
        "\n",
        "#Calc ROC Curve\n",
        "fpr,tpr,threshold = roc_curve(y_test,probabilityValues)\n",
        "\n",
        "#Plot Skill Line\n",
        "plt.plot([0,1],[0,1], linestyle = '--')\n",
        "\n",
        "#Plot ROC Curve\n",
        "plt.plot(fpr,tpr)\n",
        "plt.legend(['Random Guess','Knowledge'])"
      ],
      "metadata": {
        "colab": {
          "base_uri": "https://localhost:8080/",
          "height": 300
        },
        "id": "rnogCV-J8t1z",
        "outputId": "b22b0476-201e-4734-9170-fd19d9bd1902"
      },
      "execution_count": 36,
      "outputs": [
        {
          "output_type": "stream",
          "name": "stdout",
          "text": [
            "0.7037983350353346\n"
          ]
        },
        {
          "output_type": "execute_result",
          "data": {
            "text/plain": [
              "<matplotlib.legend.Legend at 0x7f1fcb344bd0>"
            ]
          },
          "metadata": {},
          "execution_count": 36
        },
        {
          "output_type": "display_data",
          "data": {
            "image/png": "[encoded data removed]",
            "text/plain": [
              "<Figure size 432x288 with 1 Axes>"
            ]
          },
          "metadata": {
            "needs_background": "light"
          }
        }
      ]
    },
    {
      "cell_type": "code",
      "source": [
        "from sklearn.metrics import precision_recall_curve\n",
        "from sklearn.metrics import auc\n",
        "\n",
        "probabilityValues = nameclassifier_xgb.predict_proba(x_test)[:,1]\n",
        "\n",
        "#Cal PR Curve\n",
        "precision,recall,t = precision_recall_curve(y_test,probabilityValues)\n",
        "\n",
        "#Calc AUC\n",
        "auc = auc(recall,precision)\n",
        "print(auc)\n",
        "\n",
        "#Plot Skill Line\n",
        "plt.plot([0,1],[0.5,0.5],linestyle='--')\n",
        "\n",
        "#plot PR\n",
        "plt.plot(recall,precision)"
      ],
      "metadata": {
        "colab": {
          "base_uri": "https://localhost:8080/",
          "height": 300
        },
        "id": "m032XlFZ8tzN",
        "outputId": "e626809a-4695-4117-d726-d2328cd173b5"
      },
      "execution_count": 30,
      "outputs": [
        {
          "output_type": "stream",
          "name": "stdout",
          "text": [
            "0.8215444135400342\n"
          ]
        },
        {
          "output_type": "execute_result",
          "data": {
            "text/plain": [
              "[<matplotlib.lines.Line2D at 0x7f1fcb4fb910>]"
            ]
          },
          "metadata": {},
          "execution_count": 30
        },
        {
          "output_type": "display_data",
          "data": {
            "image/png": "[encoded data removed]",
            "text/plain": [
              "<Figure size 432x288 with 1 Axes>"
            ]
          },
          "metadata": {
            "needs_background": "light"
          }
        }
      ]
    },
    {
      "cell_type": "code",
      "source": [
        "nameclassifier_svc = Pipeline([\n",
        "  ('vect', CountVectorizer()),\n",
        "   ('tfidf', TfidfTransformer()),\n",
        "   ('sm', SMOTE(random_state=7,sampling_strategy='minority',k_neighbors=3)),\n",
        "   ('svc', SVC(\n",
        "               class_weight='balanced',C=50,probability=True))\n",
        "])"
      ],
      "metadata": {
        "id": "kvFpFARG8ocV"
      },
      "execution_count": 44,
      "outputs": []
    },
    {
      "cell_type": "code",
      "source": [
        "nameclassifier_svc.fit(x_train,y_train)"
      ],
      "metadata": {
        "id": "OKB7qaNx8oaU"
      },
      "execution_count": null,
      "outputs": []
    },
    {
      "cell_type": "code",
      "source": [
        "pred = nameclassifier_svc.predict(x_test)"
      ],
      "metadata": {
        "id": "VownNgCl8oX_"
      },
      "execution_count": null,
      "outputs": []
    },
    {
      "cell_type": "code",
      "source": [
        "cm = confusion_matrix(y_test, pred)\n",
        "cm"
      ],
      "metadata": {
        "id": "ecH7r3nE8oV4"
      },
      "execution_count": null,
      "outputs": []
    },
    {
      "cell_type": "code",
      "source": [
        "print(classification_report(y_test.astype('int'), pred))"
      ],
      "metadata": {
        "id": "qyw65JNm8oTa"
      },
      "execution_count": null,
      "outputs": []
    },
    {
      "cell_type": "code",
      "source": [
        "probabilityValues = nameclassifier_svc.predict_proba(x_test)[:,1]\n",
        "\n",
        "#Calc AUC\n",
        "auc = roc_auc_score(y_test,probabilityValues)\n",
        "print(auc)\n",
        "\n",
        "#Calc ROC Curve\n",
        "fpr,tpr,threshold = roc_curve(y_test,probabilityValues)\n",
        "\n",
        "#Plot Skill Line\n",
        "plt.plot([0,1],[0,1], linestyle = '--')\n",
        "\n",
        "#Plot ROC Curve\n",
        "plt.plot(fpr,tpr)\n",
        "plt.legend(['Random Guess','Knowledge'])"
      ],
      "metadata": {
        "id": "NMbXzqQ3-YIz"
      },
      "execution_count": null,
      "outputs": []
    },
    {
      "cell_type": "code",
      "source": [
        "from sklearn.metrics import precision_recall_curve\n",
        "from sklearn.metrics import auc\n",
        "\n",
        "probabilityValues = nameclassifier_svc.predict_proba(x_test)[:,1]\n",
        "\n",
        "#Cal PR Curve\n",
        "precision,recall,t = precision_recall_curve(y_test,probabilityValues)\n",
        "\n",
        "#Calc AUC\n",
        "auc = auc(recall,precision)\n",
        "print(auc)\n",
        "\n",
        "#Plot Skill Line\n",
        "plt.plot([0,1],[0.5,0.5],linestyle='--')\n",
        "\n",
        "#plot PR\n",
        "plt.plot(recall,precision)"
      ],
      "metadata": {
        "id": "QAFfxHoTD1bh"
      },
      "execution_count": null,
      "outputs": []
    },
    {
      "cell_type": "code",
      "source": [
        "#save the model to disk\n",
        "\n",
        "filename = 'finalized_model.sav'\n",
        "pickle.dump(nameclassifier_log_reg, open(filename, 'wb'))\n",
        " \n"
      ],
      "metadata": {
        "id": "a5nToIk5UlbQ"
      },
      "execution_count": 67,
      "outputs": []
    },
    {
      "cell_type": "code",
      "source": [
        "# some time later...\n",
        " \n",
        "# load the model from disk\n",
        "loaded_model = pickle.load(open(filename, 'rb'))\n",
        "pred = loaded_model.predict(x_test,)"
      ],
      "metadata": {
        "id": "O6ISb0jAU4Ee"
      },
      "execution_count": 68,
      "outputs": []
    },
    {
      "cell_type": "code",
      "source": [
        "cm = confusion_matrix(y_test, pred)\n",
        "cm"
      ],
      "metadata": {
        "colab": {
          "base_uri": "https://localhost:8080/"
        },
        "id": "n0B54LYRVChS",
        "outputId": "c8e18b77-0ab4-4d58-f699-e5fbb7ad5f60"
      },
      "execution_count": 69,
      "outputs": [
        {
          "output_type": "execute_result",
          "data": {
            "text/plain": [
              "array([[ 6096,  4750],\n",
              "       [ 1387, 14941]])"
            ]
          },
          "metadata": {},
          "execution_count": 69
        }
      ]
    },
    {
      "cell_type": "code",
      "source": [
        "print(classification_report(y_test, pred))"
      ],
      "metadata": {
        "colab": {
          "base_uri": "https://localhost:8080/"
        },
        "id": "tu29fjw6VtGn",
        "outputId": "2133848a-0d74-4155-94c8-f02ea1b46ec2"
      },
      "execution_count": 70,
      "outputs": [
        {
          "output_type": "stream",
          "name": "stdout",
          "text": [
            "              precision    recall  f1-score   support\n",
            "\n",
            "           0       0.81      0.56      0.67     10846\n",
            "           1       0.76      0.92      0.83     16328\n",
            "\n",
            "    accuracy                           0.77     27174\n",
            "   macro avg       0.79      0.74      0.75     27174\n",
            "weighted avg       0.78      0.77      0.76     27174\n",
            "\n"
          ]
        }
      ]
    },
    {
      "cell_type": "code",
      "source": [
        ""
      ],
      "metadata": {
        "id": "mXiPsT-wV0oJ"
      },
      "execution_count": null,
      "outputs": []
    }
  ]
}